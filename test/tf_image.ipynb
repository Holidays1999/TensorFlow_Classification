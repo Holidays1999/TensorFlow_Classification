{
 "cells": [
  {
   "cell_type": "code",
   "execution_count": 1,
   "id": "42b4f383",
   "metadata": {},
   "outputs": [
    {
     "name": "stdout",
     "output_type": "stream",
     "text": [
      "2.0.0\n"
     ]
    }
   ],
   "source": [
    "import tensorflow as tf\n",
    "import numpy as np\n",
    "print(tf.__version__)"
   ]
  },
  {
   "cell_type": "code",
   "execution_count": 29,
   "id": "a0bbb980",
   "metadata": {},
   "outputs": [],
   "source": [
    "data = tf.random.normal([2,2,3])*225\n",
    "paddings = tf.constant([[1, 1], [1, 1], [0, 0]])\n",
    "x = tf.pad(data, paddings)"
   ]
  },
  {
   "cell_type": "code",
   "execution_count": 30,
   "id": "09724176",
   "metadata": {},
   "outputs": [],
   "source": [
    "x = tf.transpose(x, [2,1,0])"
   ]
  },
  {
   "cell_type": "code",
   "execution_count": 31,
   "id": "f89da6e7",
   "metadata": {},
   "outputs": [
    {
     "name": "stdout",
     "output_type": "stream",
     "text": [
      "tf.Tensor(\n",
      "[[  0.         0.         0.         0.      ]\n",
      " [  0.        54.66753  146.59799    0.      ]\n",
      " [  0.       108.73153  -14.932671   0.      ]\n",
      " [  0.         0.         0.         0.      ]], shape=(4, 4), dtype=float32)\n"
     ]
    }
   ],
   "source": [
    "print(x[0])"
   ]
  },
  {
   "cell_type": "code",
   "execution_count": null,
   "id": "9aa12d14",
   "metadata": {},
   "outputs": [],
   "source": []
  }
 ],
 "metadata": {
  "kernelspec": {
   "display_name": "Python 3",
   "language": "python",
   "name": "python3"
  },
  "language_info": {
   "codemirror_mode": {
    "name": "ipython",
    "version": 3
   },
   "file_extension": ".py",
   "mimetype": "text/x-python",
   "name": "python",
   "nbconvert_exporter": "python",
   "pygments_lexer": "ipython3",
   "version": "3.7.10"
  }
 },
 "nbformat": 4,
 "nbformat_minor": 5
}
