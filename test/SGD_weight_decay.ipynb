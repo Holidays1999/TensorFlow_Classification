{
 "cells": [
  {
   "cell_type": "code",
   "execution_count": 9,
   "id": "0d336c4c",
   "metadata": {},
   "outputs": [
    {
     "name": "stdout",
     "output_type": "stream",
     "text": [
      "2.0.0\n"
     ]
    }
   ],
   "source": [
    "import tensorflow as tf\n",
    "print(tf.__version__)"
   ]
  },
  {
   "cell_type": "code",
   "execution_count": 10,
   "id": "7a617d60",
   "metadata": {},
   "outputs": [],
   "source": [
    "model = tf.keras.applications.VGG16(False)"
   ]
  },
  {
   "cell_type": "markdown",
   "id": "aab6dffd",
   "metadata": {},
   "source": [
    "# TensorFlow权重存储  \n",
    "<font face=\"Times New Roman\">(kernel_size, kernel_size, in_channels, out_hannels)"
   ]
  },
  {
   "cell_type": "code",
   "execution_count": 11,
   "id": "dab04c40",
   "metadata": {},
   "outputs": [
    {
     "data": {
      "text/plain": [
       "TensorShape([3, 3, 3, 64])"
      ]
     },
     "execution_count": 11,
     "metadata": {},
     "output_type": "execute_result"
    }
   ],
   "source": [
    "model.layers[1].kernel.shape"
   ]
  },
  {
   "cell_type": "markdown",
   "id": "cd5fb695",
   "metadata": {},
   "source": [
    "# PyTorh tensor.add_"
   ]
  },
  {
   "cell_type": "code",
   "execution_count": 12,
   "id": "cab756ec",
   "metadata": {},
   "outputs": [
    {
     "name": "stdout",
     "output_type": "stream",
     "text": [
      "tensor([ 0.4751, -0.6445, -0.7681])\n"
     ]
    }
   ],
   "source": [
    "import torch\n",
    "data = torch.randn(3)\n",
    "print(data)"
   ]
  },
  {
   "cell_type": "markdown",
   "id": "b7eb976a",
   "metadata": {},
   "source": [
    "```python\n",
    "for p in group['params']:\n",
    "    if p.grad is None:\n",
    "        continue\n",
    "    # 得到该梯度的数据 --> grad\n",
    "    d_p = p.grad.data\n",
    "    # 得到 new_grad = grad + weight_decay * data\n",
    "    if weight_decay != 0:\n",
    "        d_p.add_(weight_decay, p.data)\n",
    "    if momentum != 0:\n",
    "        param_state = self.state[p]\n",
    "        if 'momentum_buffer' not in param_state:\n",
    "            buf = param_state['momentum_buffer'] = torch.clone(d_p).detach()\n",
    "        else:\n",
    "            buf = param_state['momentum_buffer']\n",
    "            buf.mul_(momentum).add_(1 - dampening, d_p)\n",
    "        if nesterov:\n",
    "            d_p = d_p.add(momentum, buf)\n",
    "        else:\n",
    "            d_p = buf\n",
    "    # 更新新的梯度 new_data = data - lr * new_grad = data - lr * (grad + weight_decay * data)\n",
    "    p.data.add_(-group['lr'], d_p)\n",
    "```"
   ]
  },
  {
   "cell_type": "code",
   "execution_count": null,
   "id": "c9f1f9b2",
   "metadata": {},
   "outputs": [],
   "source": []
  }
 ],
 "metadata": {
  "kernelspec": {
   "display_name": "Python 3",
   "language": "python",
   "name": "python3"
  },
  "language_info": {
   "codemirror_mode": {
    "name": "ipython",
    "version": 3
   },
   "file_extension": ".py",
   "mimetype": "text/x-python",
   "name": "python",
   "nbconvert_exporter": "python",
   "pygments_lexer": "ipython3",
   "version": "3.7.10"
  }
 },
 "nbformat": 4,
 "nbformat_minor": 5
}
